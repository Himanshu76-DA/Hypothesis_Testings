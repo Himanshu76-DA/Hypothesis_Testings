{
 "cells": [
  {
   "cell_type": "markdown",
   "id": "7b14aef5-7eed-4896-bddd-89f5abb7cf56",
   "metadata": {},
   "source": [
    "### 📌 Hypothesis Testing Practice – Skill Showcase\n",
    "\n",
    "This notebook is focused purely on practicing **statistical hypothesis tests** to demonstrate my understanding and application of core testing techniques. The objective here is **not** to generate insights or make business recommendations — it is to show command over methods like **t-tests**, **Z-tests**, **ANOVA**, **Chi-square**, and more.\n",
    "\n",
    "---\n",
    "\n",
    "### 🧾 Dataset Overview\n",
    "\n",
    "| Column Name          | Description                                 |\n",
    "|----------------------|---------------------------------------------|\n",
    "| `ID`                 | Unique identifier for each customer         |\n",
    "| `Gender`             | Gender of the customer                      |\n",
    "| `Age`                | Age of the customer                         |\n",
    "| `Income`             | Annual income                               |\n",
    "| `Education_Level`    | Educational qualification                   |\n",
    "| `City`               | City of residence                           |\n",
    "| `Product_Category`   | Type of product purchased                   |\n",
    "| `Purchase_Amount`    | Total amount spent in a purchase            |\n",
    "| `Purchase_Date`      | Date of transaction                         |\n",
    "| `Satisfaction_Score` | Customer satisfaction rating (1 to 5)       |\n",
    "\n",
    "---"
   ]
  },
  {
   "cell_type": "markdown",
   "id": "8419e778-519f-4ae6-bea8-4af452342802",
   "metadata": {},
   "source": [
    "### 🔧 Workflow Steps\n",
    "\n",
    "1. **Load the Dataset**  \n",
    "   We start by loading the dataset into a pandas DataFrame.\n",
    "\n",
    "2. **Clean the Data**  \n",
    "   Although the data is messy, we clean and preprocess it to make it ready for testing.\n",
    "\n",
    "3. **Apply Hypothesis Tests**  \n",
    "   We apply multiple hypothesis tests such as:\n",
    "   - One-Sample & Two-Sample **t-tests**  \n",
    "   - One-Sample & Two-Sample **Z-tests**  \n",
    "   - **One-Way ANOVA**  \n",
    "   - **Chi-Square Test of Independence**\n",
    "\n",
    "4. **Focus**  \n",
    "   No insights or analytics are generated — this notebook is **purely for technical demonstration** of hypothesis testing skills."
   ]
  },
  {
   "cell_type": "code",
   "execution_count": 1,
   "id": "92dc9a10-6348-474c-bbf9-27959b555ef8",
   "metadata": {},
   "outputs": [],
   "source": [
    "import pandas as pd\n",
    "import numpy as np\n",
    "import seaborn as sns\n",
    "import matplotlib.pyplot as plt"
   ]
  },
  {
   "cell_type": "code",
   "execution_count": 2,
   "id": "95114d4c-2cb6-4f38-b58e-3814a969da96",
   "metadata": {},
   "outputs": [
    {
     "data": {
      "text/html": [
       "<div>\n",
       "<style scoped>\n",
       "    .dataframe tbody tr th:only-of-type {\n",
       "        vertical-align: middle;\n",
       "    }\n",
       "\n",
       "    .dataframe tbody tr th {\n",
       "        vertical-align: top;\n",
       "    }\n",
       "\n",
       "    .dataframe thead th {\n",
       "        text-align: right;\n",
       "    }\n",
       "</style>\n",
       "<table border=\"1\" class=\"dataframe\">\n",
       "  <thead>\n",
       "    <tr style=\"text-align: right;\">\n",
       "      <th></th>\n",
       "      <th>ID</th>\n",
       "      <th>Gender</th>\n",
       "      <th>Age</th>\n",
       "      <th>Income</th>\n",
       "      <th>Education_Level</th>\n",
       "      <th>City</th>\n",
       "      <th>Product_Category</th>\n",
       "      <th>Purchase_Amount</th>\n",
       "      <th>Purchase_Date</th>\n",
       "      <th>Satisfaction_Score</th>\n",
       "    </tr>\n",
       "  </thead>\n",
       "  <tbody>\n",
       "    <tr>\n",
       "      <th>0</th>\n",
       "      <td>1</td>\n",
       "      <td>male</td>\n",
       "      <td>38.0</td>\n",
       "      <td>27682.07</td>\n",
       "      <td>UG</td>\n",
       "      <td>delhi</td>\n",
       "      <td>Books</td>\n",
       "      <td>1591.62</td>\n",
       "      <td>2023-10-05</td>\n",
       "      <td>4</td>\n",
       "    </tr>\n",
       "    <tr>\n",
       "      <th>1</th>\n",
       "      <td>2</td>\n",
       "      <td>NaN</td>\n",
       "      <td>43.0</td>\n",
       "      <td>33122.21</td>\n",
       "      <td>UG</td>\n",
       "      <td>Hyderabad</td>\n",
       "      <td>Fitness</td>\n",
       "      <td>1354.93</td>\n",
       "      <td>2023-03-15</td>\n",
       "      <td>NaN</td>\n",
       "    </tr>\n",
       "    <tr>\n",
       "      <th>2</th>\n",
       "      <td>3</td>\n",
       "      <td>Female</td>\n",
       "      <td>63.0</td>\n",
       "      <td>NaN</td>\n",
       "      <td>NaN</td>\n",
       "      <td>Delhi</td>\n",
       "      <td>Clothing</td>\n",
       "      <td>3124.15</td>\n",
       "      <td>02/28/2023</td>\n",
       "      <td>1</td>\n",
       "    </tr>\n",
       "    <tr>\n",
       "      <th>3</th>\n",
       "      <td>4</td>\n",
       "      <td>FEMALE</td>\n",
       "      <td>36.0</td>\n",
       "      <td>32391.90</td>\n",
       "      <td>High School</td>\n",
       "      <td>NaN</td>\n",
       "      <td>Books</td>\n",
       "      <td>1870.65</td>\n",
       "      <td>2023-03-01</td>\n",
       "      <td>2</td>\n",
       "    </tr>\n",
       "    <tr>\n",
       "      <th>4</th>\n",
       "      <td>5</td>\n",
       "      <td>Male</td>\n",
       "      <td>64.0</td>\n",
       "      <td>66689.51</td>\n",
       "      <td>UG</td>\n",
       "      <td>Hyderabad</td>\n",
       "      <td>Electronics</td>\n",
       "      <td>1501.34</td>\n",
       "      <td>27-12-2023</td>\n",
       "      <td>bad</td>\n",
       "    </tr>\n",
       "    <tr>\n",
       "      <th>5</th>\n",
       "      <td>6</td>\n",
       "      <td>Male</td>\n",
       "      <td>22.0</td>\n",
       "      <td>48933.20</td>\n",
       "      <td>PG</td>\n",
       "      <td>delhi</td>\n",
       "      <td>Grocery</td>\n",
       "      <td>2761.70</td>\n",
       "      <td>20-10-2023</td>\n",
       "      <td>1</td>\n",
       "    </tr>\n",
       "    <tr>\n",
       "      <th>6</th>\n",
       "      <td>7</td>\n",
       "      <td>Male</td>\n",
       "      <td>59.0</td>\n",
       "      <td>51283.92</td>\n",
       "      <td>UG</td>\n",
       "      <td>Delhi</td>\n",
       "      <td>Books</td>\n",
       "      <td>1464.30</td>\n",
       "      <td>09/20/2023</td>\n",
       "      <td>5</td>\n",
       "    </tr>\n",
       "    <tr>\n",
       "      <th>7</th>\n",
       "      <td>8</td>\n",
       "      <td>Female</td>\n",
       "      <td>62.0</td>\n",
       "      <td>45824.41</td>\n",
       "      <td>phd</td>\n",
       "      <td>NaN</td>\n",
       "      <td>NaN</td>\n",
       "      <td>3625.26</td>\n",
       "      <td>2023-03-01</td>\n",
       "      <td>4</td>\n",
       "    </tr>\n",
       "    <tr>\n",
       "      <th>8</th>\n",
       "      <td>9</td>\n",
       "      <td>FEMALE</td>\n",
       "      <td>27.0</td>\n",
       "      <td>61592.72</td>\n",
       "      <td>High School</td>\n",
       "      <td>Bangalore</td>\n",
       "      <td>Fitness</td>\n",
       "      <td>2498.33</td>\n",
       "      <td>2023-10-14</td>\n",
       "      <td>1</td>\n",
       "    </tr>\n",
       "    <tr>\n",
       "      <th>9</th>\n",
       "      <td>10</td>\n",
       "      <td>Female</td>\n",
       "      <td>40.0</td>\n",
       "      <td>61747.40</td>\n",
       "      <td>UG</td>\n",
       "      <td>Hyderabad</td>\n",
       "      <td>Electronics</td>\n",
       "      <td>1487.30</td>\n",
       "      <td>01/08/2023</td>\n",
       "      <td>1</td>\n",
       "    </tr>\n",
       "  </tbody>\n",
       "</table>\n",
       "</div>"
      ],
      "text/plain": [
       "   ID  Gender   Age    Income Education_Level       City Product_Category  \\\n",
       "0   1    male  38.0  27682.07              UG      delhi            Books   \n",
       "1   2     NaN  43.0  33122.21              UG  Hyderabad          Fitness   \n",
       "2   3  Female  63.0       NaN             NaN      Delhi         Clothing   \n",
       "3   4  FEMALE  36.0  32391.90     High School        NaN            Books   \n",
       "4   5    Male  64.0  66689.51              UG  Hyderabad      Electronics   \n",
       "5   6    Male  22.0  48933.20              PG      delhi          Grocery   \n",
       "6   7    Male  59.0  51283.92              UG      Delhi            Books   \n",
       "7   8  Female  62.0  45824.41             phd        NaN              NaN   \n",
       "8   9  FEMALE  27.0  61592.72     High School  Bangalore          Fitness   \n",
       "9  10  Female  40.0  61747.40              UG  Hyderabad      Electronics   \n",
       "\n",
       "   Purchase_Amount Purchase_Date Satisfaction_Score  \n",
       "0          1591.62    2023-10-05                  4  \n",
       "1          1354.93    2023-03-15                NaN  \n",
       "2          3124.15    02/28/2023                  1  \n",
       "3          1870.65    2023-03-01                  2  \n",
       "4          1501.34    27-12-2023                bad  \n",
       "5          2761.70    20-10-2023                  1  \n",
       "6          1464.30    09/20/2023                  5  \n",
       "7          3625.26    2023-03-01                  4  \n",
       "8          2498.33    2023-10-14                  1  \n",
       "9          1487.30    01/08/2023                  1  "
      ]
     },
     "execution_count": 2,
     "metadata": {},
     "output_type": "execute_result"
    }
   ],
   "source": [
    "data  = pd.read_csv(\"data_cleaning_hypothesis_testing-checkpoint.csv\")\n",
    "df = pd.DataFrame(data)\n",
    "df.head(10)"
   ]
  },
  {
   "cell_type": "code",
   "execution_count": 3,
   "id": "fe3b1931-635c-463d-b7d5-a06e365db308",
   "metadata": {},
   "outputs": [
    {
     "name": "stdout",
     "output_type": "stream",
     "text": [
      "<class 'pandas.core.frame.DataFrame'>\n",
      "RangeIndex: 5000 entries, 0 to 4999\n",
      "Data columns (total 10 columns):\n",
      " #   Column              Non-Null Count  Dtype  \n",
      "---  ------              --------------  -----  \n",
      " 0   ID                  5000 non-null   int64  \n",
      " 1   Gender              4841 non-null   object \n",
      " 2   Age                 4979 non-null   float64\n",
      " 3   Income              4850 non-null   float64\n",
      " 4   Education_Level     4553 non-null   object \n",
      " 5   City                4262 non-null   object \n",
      " 6   Product_Category    4180 non-null   object \n",
      " 7   Purchase_Amount     4900 non-null   float64\n",
      " 8   Purchase_Date       5000 non-null   object \n",
      " 9   Satisfaction_Score  4768 non-null   object \n",
      "dtypes: float64(3), int64(1), object(6)\n",
      "memory usage: 390.8+ KB\n"
     ]
    }
   ],
   "source": [
    "df.info()"
   ]
  },
  {
   "cell_type": "code",
   "execution_count": 4,
   "id": "5eacad2e-fa52-4a35-9db0-3c8e823503bf",
   "metadata": {},
   "outputs": [
    {
     "data": {
      "text/plain": [
       "Satisfaction_Score\n",
       "3       1296\n",
       "2        997\n",
       "1        738\n",
       "4        725\n",
       "5        489\n",
       "bad      268\n",
       "good     255\n",
       "Name: count, dtype: int64"
      ]
     },
     "execution_count": 4,
     "metadata": {},
     "output_type": "execute_result"
    }
   ],
   "source": [
    "df[\"Satisfaction_Score\"].value_counts()"
   ]
  },
  {
   "cell_type": "code",
   "execution_count": 5,
   "id": "a1651c3d-bca1-4e45-b165-a995fe4b1d80",
   "metadata": {},
   "outputs": [
    {
     "name": "stderr",
     "output_type": "stream",
     "text": [
      "C:\\Users\\nikuj\\AppData\\Local\\Temp\\ipykernel_15296\\277664143.py:3: FutureWarning: Series.fillna with 'method' is deprecated and will raise in a future version. Use obj.ffill() or obj.bfill() instead.\n",
      "  df[\"Gender\"] = df[\"Gender\"].fillna(method = \"ffill\")\n",
      "C:\\Users\\nikuj\\AppData\\Local\\Temp\\ipykernel_15296\\277664143.py:17: FutureWarning: Series.fillna with 'method' is deprecated and will raise in a future version. Use obj.ffill() or obj.bfill() instead.\n",
      "  df[\"Education_Level\"] = df[\"Education_Level\"].fillna(method = \"bfill\")\n",
      "C:\\Users\\nikuj\\AppData\\Local\\Temp\\ipykernel_15296\\277664143.py:21: FutureWarning: Series.fillna with 'method' is deprecated and will raise in a future version. Use obj.ffill() or obj.bfill() instead.\n",
      "  df[\"City\"] = df[\"City\"].fillna(method = \"ffill\")\n",
      "C:\\Users\\nikuj\\AppData\\Local\\Temp\\ipykernel_15296\\277664143.py:27: FutureWarning: Series.fillna with 'method' is deprecated and will raise in a future version. Use obj.ffill() or obj.bfill() instead.\n",
      "  df[\"Product_Category\"] = df[\"Product_Category\"].fillna(method = \"ffill\")\n"
     ]
    }
   ],
   "source": [
    "df[\"ID\"] = df[\"ID\"].astype(\"category\")\n",
    "\n",
    "df[\"Gender\"] = df[\"Gender\"].fillna(method = \"ffill\")\n",
    "df[\"Gender\"] = df[\"Gender\"].replace({\"male\":\"Male\",\"FEMALE\":\"Female\"})\n",
    "df[\"Gender\"] = df[\"Gender\"].astype(\"category\")\n",
    "\n",
    "\n",
    "df[\"Age\"] = df[\"Age\"].fillna(df[\"Age\"].mean())\n",
    "df[\"Age\"] = df[\"Age\"].clip(lower=10, upper=70)\n",
    "df[\"Age\"] = df[\"Age\"].astype(int)\n",
    "\n",
    "df[\"Income\"] = df[\"Income\"].fillna(df[\"Income\"].mean())\n",
    "df[\"Income\"] = df[\"Income\"].apply(lambda x: df[\"Income\"].mean() if x<= 1000 else x)\n",
    "\n",
    "\n",
    "df[\"Education_Level\"] = df[\"Education_Level\"].replace({\"ug\":\"UG\"})\n",
    "df[\"Education_Level\"] = df[\"Education_Level\"].fillna(method = \"bfill\")\n",
    "df[\"Education_Level\"] = df[\"Education_Level\"].astype(\"category\")\n",
    "\n",
    "df[\"City\"] = df[\"City\"].replace({\"banglore\":\"Bengaluru\",\"Bangalore\" : \"Bengaluru\",\"delhi\":\"Delhi\"})\n",
    "df[\"City\"] = df[\"City\"].fillna(method = \"ffill\")\n",
    "\n",
    "df[\"Satisfaction_Score\"] = df[\"Satisfaction_Score\"].replace({\"bad\":2,\"good\":4})\n",
    "df[\"Satisfaction_Score\"] = df[\"Satisfaction_Score\"].fillna(df[\"Satisfaction_Score\"].median())\n",
    "df[\"Satisfaction_Score\"] = df[\"Satisfaction_Score\"].astype(int)\n",
    "\n",
    "df[\"Product_Category\"] = df[\"Product_Category\"].fillna(method = \"ffill\")\n",
    "df[\"Purchase_Amount\"] = df[\"Purchase_Amount\"].fillna(df[\"Purchase_Amount\"].mean())\n",
    "df[\"Purchase_Amount\"] = df[\"Purchase_Amount\"].clip(lower = 100,upper = 100000)\n",
    "\n",
    "df[\"Purchase_Date\"] = pd.to_datetime(df[\"Purchase_Date\"],errors = 'coerce')"
   ]
  },
  {
   "cell_type": "code",
   "execution_count": 6,
   "id": "d3c30dbc-8a0d-49b9-8675-ec30f19b78ba",
   "metadata": {},
   "outputs": [
    {
     "data": {
      "text/html": [
       "<div>\n",
       "<style scoped>\n",
       "    .dataframe tbody tr th:only-of-type {\n",
       "        vertical-align: middle;\n",
       "    }\n",
       "\n",
       "    .dataframe tbody tr th {\n",
       "        vertical-align: top;\n",
       "    }\n",
       "\n",
       "    .dataframe thead th {\n",
       "        text-align: right;\n",
       "    }\n",
       "</style>\n",
       "<table border=\"1\" class=\"dataframe\">\n",
       "  <thead>\n",
       "    <tr style=\"text-align: right;\">\n",
       "      <th></th>\n",
       "      <th>ID</th>\n",
       "      <th>Gender</th>\n",
       "      <th>Age</th>\n",
       "      <th>Income</th>\n",
       "      <th>Education_Level</th>\n",
       "      <th>City</th>\n",
       "      <th>Product_Category</th>\n",
       "      <th>Purchase_Amount</th>\n",
       "      <th>Purchase_Date</th>\n",
       "      <th>Satisfaction_Score</th>\n",
       "    </tr>\n",
       "  </thead>\n",
       "  <tbody>\n",
       "    <tr>\n",
       "      <th>4521</th>\n",
       "      <td>4522</td>\n",
       "      <td>Female</td>\n",
       "      <td>50</td>\n",
       "      <td>26888.63</td>\n",
       "      <td>High School</td>\n",
       "      <td>Mumbai</td>\n",
       "      <td>Clothing</td>\n",
       "      <td>607.490000</td>\n",
       "      <td>NaT</td>\n",
       "      <td>2</td>\n",
       "    </tr>\n",
       "    <tr>\n",
       "      <th>725</th>\n",
       "      <td>726</td>\n",
       "      <td>Female</td>\n",
       "      <td>52</td>\n",
       "      <td>53168.14</td>\n",
       "      <td>PG</td>\n",
       "      <td>Delhi</td>\n",
       "      <td>Books</td>\n",
       "      <td>864.710000</td>\n",
       "      <td>2023-08-25</td>\n",
       "      <td>3</td>\n",
       "    </tr>\n",
       "    <tr>\n",
       "      <th>1671</th>\n",
       "      <td>1672</td>\n",
       "      <td>Female</td>\n",
       "      <td>60</td>\n",
       "      <td>41583.66</td>\n",
       "      <td>UG</td>\n",
       "      <td>Mumbai</td>\n",
       "      <td>Clothing</td>\n",
       "      <td>1803.730000</td>\n",
       "      <td>NaT</td>\n",
       "      <td>2</td>\n",
       "    </tr>\n",
       "    <tr>\n",
       "      <th>1284</th>\n",
       "      <td>1285</td>\n",
       "      <td>Male</td>\n",
       "      <td>29</td>\n",
       "      <td>47432.31</td>\n",
       "      <td>UG</td>\n",
       "      <td>Bengaluru</td>\n",
       "      <td>Fitness</td>\n",
       "      <td>1567.030000</td>\n",
       "      <td>NaT</td>\n",
       "      <td>5</td>\n",
       "    </tr>\n",
       "    <tr>\n",
       "      <th>3875</th>\n",
       "      <td>3876</td>\n",
       "      <td>Male</td>\n",
       "      <td>23</td>\n",
       "      <td>40024.52</td>\n",
       "      <td>PG</td>\n",
       "      <td>Bengaluru</td>\n",
       "      <td>Books</td>\n",
       "      <td>1261.490000</td>\n",
       "      <td>NaT</td>\n",
       "      <td>2</td>\n",
       "    </tr>\n",
       "    <tr>\n",
       "      <th>3426</th>\n",
       "      <td>3427</td>\n",
       "      <td>Female</td>\n",
       "      <td>24</td>\n",
       "      <td>52003.48</td>\n",
       "      <td>High School</td>\n",
       "      <td>Hyderabad</td>\n",
       "      <td>Fitness</td>\n",
       "      <td>545.090000</td>\n",
       "      <td>NaT</td>\n",
       "      <td>3</td>\n",
       "    </tr>\n",
       "    <tr>\n",
       "      <th>823</th>\n",
       "      <td>824</td>\n",
       "      <td>Male</td>\n",
       "      <td>56</td>\n",
       "      <td>54802.82</td>\n",
       "      <td>phd</td>\n",
       "      <td>Hyderabad</td>\n",
       "      <td>Clothing</td>\n",
       "      <td>1639.890000</td>\n",
       "      <td>NaT</td>\n",
       "      <td>3</td>\n",
       "    </tr>\n",
       "    <tr>\n",
       "      <th>521</th>\n",
       "      <td>522</td>\n",
       "      <td>Male</td>\n",
       "      <td>48</td>\n",
       "      <td>64155.73</td>\n",
       "      <td>PG</td>\n",
       "      <td>Delhi</td>\n",
       "      <td>Electronics</td>\n",
       "      <td>1851.970000</td>\n",
       "      <td>NaT</td>\n",
       "      <td>1</td>\n",
       "    </tr>\n",
       "    <tr>\n",
       "      <th>1034</th>\n",
       "      <td>1035</td>\n",
       "      <td>Male</td>\n",
       "      <td>51</td>\n",
       "      <td>59403.16</td>\n",
       "      <td>phd</td>\n",
       "      <td>Delhi</td>\n",
       "      <td>Fitness</td>\n",
       "      <td>2653.130000</td>\n",
       "      <td>2023-05-12</td>\n",
       "      <td>3</td>\n",
       "    </tr>\n",
       "    <tr>\n",
       "      <th>4088</th>\n",
       "      <td>4089</td>\n",
       "      <td>Female</td>\n",
       "      <td>29</td>\n",
       "      <td>88190.82</td>\n",
       "      <td>UG</td>\n",
       "      <td>Hyderabad</td>\n",
       "      <td>Electronics</td>\n",
       "      <td>1555.406069</td>\n",
       "      <td>NaT</td>\n",
       "      <td>4</td>\n",
       "    </tr>\n",
       "  </tbody>\n",
       "</table>\n",
       "</div>"
      ],
      "text/plain": [
       "        ID  Gender  Age    Income Education_Level       City Product_Category  \\\n",
       "4521  4522  Female   50  26888.63     High School     Mumbai         Clothing   \n",
       "725    726  Female   52  53168.14              PG      Delhi            Books   \n",
       "1671  1672  Female   60  41583.66              UG     Mumbai         Clothing   \n",
       "1284  1285    Male   29  47432.31              UG  Bengaluru          Fitness   \n",
       "3875  3876    Male   23  40024.52              PG  Bengaluru            Books   \n",
       "3426  3427  Female   24  52003.48     High School  Hyderabad          Fitness   \n",
       "823    824    Male   56  54802.82             phd  Hyderabad         Clothing   \n",
       "521    522    Male   48  64155.73              PG      Delhi      Electronics   \n",
       "1034  1035    Male   51  59403.16             phd      Delhi          Fitness   \n",
       "4088  4089  Female   29  88190.82              UG  Hyderabad      Electronics   \n",
       "\n",
       "      Purchase_Amount Purchase_Date  Satisfaction_Score  \n",
       "4521       607.490000           NaT                   2  \n",
       "725        864.710000    2023-08-25                   3  \n",
       "1671      1803.730000           NaT                   2  \n",
       "1284      1567.030000           NaT                   5  \n",
       "3875      1261.490000           NaT                   2  \n",
       "3426       545.090000           NaT                   3  \n",
       "823       1639.890000           NaT                   3  \n",
       "521       1851.970000           NaT                   1  \n",
       "1034      2653.130000    2023-05-12                   3  \n",
       "4088      1555.406069           NaT                   4  "
      ]
     },
     "execution_count": 6,
     "metadata": {},
     "output_type": "execute_result"
    }
   ],
   "source": [
    "df.sample(10)"
   ]
  },
  {
   "cell_type": "code",
   "execution_count": 7,
   "id": "9a5c95ee-0da7-4fc0-a4cc-38df1eeb32d2",
   "metadata": {},
   "outputs": [
    {
     "data": {
      "text/html": [
       "<div>\n",
       "<style scoped>\n",
       "    .dataframe tbody tr th:only-of-type {\n",
       "        vertical-align: middle;\n",
       "    }\n",
       "\n",
       "    .dataframe tbody tr th {\n",
       "        vertical-align: top;\n",
       "    }\n",
       "\n",
       "    .dataframe thead th {\n",
       "        text-align: right;\n",
       "    }\n",
       "</style>\n",
       "<table border=\"1\" class=\"dataframe\">\n",
       "  <thead>\n",
       "    <tr style=\"text-align: right;\">\n",
       "      <th></th>\n",
       "      <th>Age</th>\n",
       "      <th>Income</th>\n",
       "      <th>Purchase_Amount</th>\n",
       "      <th>Purchase_Date</th>\n",
       "      <th>Satisfaction_Score</th>\n",
       "    </tr>\n",
       "  </thead>\n",
       "  <tbody>\n",
       "    <tr>\n",
       "      <th>count</th>\n",
       "      <td>5000.00000</td>\n",
       "      <td>5000.000000</td>\n",
       "      <td>5000.000000</td>\n",
       "      <td>1694</td>\n",
       "      <td>5000.0000</td>\n",
       "    </tr>\n",
       "    <tr>\n",
       "      <th>mean</th>\n",
       "      <td>43.02380</td>\n",
       "      <td>54856.973991</td>\n",
       "      <td>1557.627521</td>\n",
       "      <td>2023-07-07 01:25:00.354191360</td>\n",
       "      <td>2.8434</td>\n",
       "    </tr>\n",
       "    <tr>\n",
       "      <th>min</th>\n",
       "      <td>10.00000</td>\n",
       "      <td>1377.290000</td>\n",
       "      <td>100.000000</td>\n",
       "      <td>2023-01-01 00:00:00</td>\n",
       "      <td>1.0000</td>\n",
       "    </tr>\n",
       "    <tr>\n",
       "      <th>25%</th>\n",
       "      <td>30.00000</td>\n",
       "      <td>40737.375000</td>\n",
       "      <td>1098.192500</td>\n",
       "      <td>2023-04-08 00:00:00</td>\n",
       "      <td>2.0000</td>\n",
       "    </tr>\n",
       "    <tr>\n",
       "      <th>50%</th>\n",
       "      <td>43.00000</td>\n",
       "      <td>50668.410000</td>\n",
       "      <td>1500.065000</td>\n",
       "      <td>2023-07-09 00:00:00</td>\n",
       "      <td>3.0000</td>\n",
       "    </tr>\n",
       "    <tr>\n",
       "      <th>75%</th>\n",
       "      <td>56.00000</td>\n",
       "      <td>59684.717500</td>\n",
       "      <td>1909.702500</td>\n",
       "      <td>2023-10-06 00:00:00</td>\n",
       "      <td>4.0000</td>\n",
       "    </tr>\n",
       "    <tr>\n",
       "      <th>max</th>\n",
       "      <td>70.00000</td>\n",
       "      <td>907222.500000</td>\n",
       "      <td>14614.150000</td>\n",
       "      <td>2023-12-31 00:00:00</td>\n",
       "      <td>5.0000</td>\n",
       "    </tr>\n",
       "    <tr>\n",
       "      <th>std</th>\n",
       "      <td>15.15344</td>\n",
       "      <td>52464.832220</td>\n",
       "      <td>926.879329</td>\n",
       "      <td>NaN</td>\n",
       "      <td>1.1859</td>\n",
       "    </tr>\n",
       "  </tbody>\n",
       "</table>\n",
       "</div>"
      ],
      "text/plain": [
       "              Age         Income  Purchase_Amount  \\\n",
       "count  5000.00000    5000.000000      5000.000000   \n",
       "mean     43.02380   54856.973991      1557.627521   \n",
       "min      10.00000    1377.290000       100.000000   \n",
       "25%      30.00000   40737.375000      1098.192500   \n",
       "50%      43.00000   50668.410000      1500.065000   \n",
       "75%      56.00000   59684.717500      1909.702500   \n",
       "max      70.00000  907222.500000     14614.150000   \n",
       "std      15.15344   52464.832220       926.879329   \n",
       "\n",
       "                       Purchase_Date  Satisfaction_Score  \n",
       "count                           1694           5000.0000  \n",
       "mean   2023-07-07 01:25:00.354191360              2.8434  \n",
       "min              2023-01-01 00:00:00              1.0000  \n",
       "25%              2023-04-08 00:00:00              2.0000  \n",
       "50%              2023-07-09 00:00:00              3.0000  \n",
       "75%              2023-10-06 00:00:00              4.0000  \n",
       "max              2023-12-31 00:00:00              5.0000  \n",
       "std                              NaN              1.1859  "
      ]
     },
     "execution_count": 7,
     "metadata": {},
     "output_type": "execute_result"
    }
   ],
   "source": [
    "df.describe()"
   ]
  },
  {
   "cell_type": "code",
   "execution_count": 8,
   "id": "279c562c-0de3-4c2a-a450-3fd2e361cf4e",
   "metadata": {},
   "outputs": [
    {
     "data": {
      "text/plain": [
       "<Axes: xlabel='City', ylabel='Purchase_Amount'>"
      ]
     },
     "execution_count": 8,
     "metadata": {},
     "output_type": "execute_result"
    },
    {
     "data": {
      "image/png": "[encoded data removed]",
      "text/plain": [
       "<Figure size 640x480 with 1 Axes>"
      ]
     },
     "metadata": {},
     "output_type": "display_data"
    }
   ],
   "source": [
    "sns.barplot(df,x = \"City\",y = \"Purchase_Amount\",estimator = np.mean)"
   ]
  },
  {
   "cell_type": "code",
   "execution_count": 9,
   "id": "bcdd2a93-5312-43c7-826f-1263690bcfa4",
   "metadata": {},
   "outputs": [
    {
     "data": {
      "text/plain": [
       "<Axes: xlabel='Gender', ylabel='Satisfaction_Score'>"
      ]
     },
     "execution_count": 9,
     "metadata": {},
     "output_type": "execute_result"
    },
    {
     "data": {
      "image/png": "[encoded data removed]",
      "text/plain": [
       "<Figure size 640x480 with 1 Axes>"
      ]
     },
     "metadata": {},
     "output_type": "display_data"
    }
   ],
   "source": [
    "sns.barplot(df,x = \"Gender\",y = \"Satisfaction_Score\",estimator = np.mean)"
   ]
  },
  {
   "cell_type": "code",
   "execution_count": 10,
   "id": "cc12cb76-0c56-49ee-90e0-168d1e80b322",
   "metadata": {},
   "outputs": [
    {
     "data": {
      "text/plain": [
       "<Axes: >"
      ]
     },
     "execution_count": 10,
     "metadata": {},
     "output_type": "execute_result"
    },
    {
     "data": {
      "image/png": "[encoded data removed]",
      "text/plain": [
       "<Figure size 640x480 with 2 Axes>"
      ]
     },
     "metadata": {},
     "output_type": "display_data"
    }
   ],
   "source": [
    "numeric_columns = df[[\"Age\",\"Income\",\"Satisfaction_Score\",\"Purchase_Amount\"]]\n",
    "corr = numeric_columns.corr()\n",
    "sns.heatmap(corr,cmap = 'coolwarm',annot = True)"
   ]
  },
  {
   "cell_type": "code",
   "execution_count": 11,
   "id": "6f0ed258-049b-4b6b-ab24-0ea3e374597b",
   "metadata": {},
   "outputs": [
    {
     "data": {
      "text/html": [
       "<div>\n",
       "<style scoped>\n",
       "    .dataframe tbody tr th:only-of-type {\n",
       "        vertical-align: middle;\n",
       "    }\n",
       "\n",
       "    .dataframe tbody tr th {\n",
       "        vertical-align: top;\n",
       "    }\n",
       "\n",
       "    .dataframe thead th {\n",
       "        text-align: right;\n",
       "    }\n",
       "</style>\n",
       "<table border=\"1\" class=\"dataframe\">\n",
       "  <thead>\n",
       "    <tr style=\"text-align: right;\">\n",
       "      <th></th>\n",
       "      <th>ID</th>\n",
       "      <th>Gender</th>\n",
       "      <th>Age</th>\n",
       "      <th>Income</th>\n",
       "      <th>Education_Level</th>\n",
       "      <th>City</th>\n",
       "      <th>Product_Category</th>\n",
       "      <th>Purchase_Amount</th>\n",
       "      <th>Purchase_Date</th>\n",
       "      <th>Satisfaction_Score</th>\n",
       "    </tr>\n",
       "  </thead>\n",
       "  <tbody>\n",
       "    <tr>\n",
       "      <th>0</th>\n",
       "      <td>1</td>\n",
       "      <td>Male</td>\n",
       "      <td>38</td>\n",
       "      <td>27682.070000</td>\n",
       "      <td>UG</td>\n",
       "      <td>Delhi</td>\n",
       "      <td>Books</td>\n",
       "      <td>1591.62</td>\n",
       "      <td>2023-10-05</td>\n",
       "      <td>4</td>\n",
       "    </tr>\n",
       "    <tr>\n",
       "      <th>1</th>\n",
       "      <td>2</td>\n",
       "      <td>Male</td>\n",
       "      <td>43</td>\n",
       "      <td>33122.210000</td>\n",
       "      <td>UG</td>\n",
       "      <td>Hyderabad</td>\n",
       "      <td>Fitness</td>\n",
       "      <td>1354.93</td>\n",
       "      <td>2023-03-15</td>\n",
       "      <td>3</td>\n",
       "    </tr>\n",
       "    <tr>\n",
       "      <th>2</th>\n",
       "      <td>3</td>\n",
       "      <td>Female</td>\n",
       "      <td>63</td>\n",
       "      <td>54809.758936</td>\n",
       "      <td>High School</td>\n",
       "      <td>Delhi</td>\n",
       "      <td>Clothing</td>\n",
       "      <td>3124.15</td>\n",
       "      <td>NaT</td>\n",
       "      <td>1</td>\n",
       "    </tr>\n",
       "    <tr>\n",
       "      <th>3</th>\n",
       "      <td>4</td>\n",
       "      <td>Female</td>\n",
       "      <td>36</td>\n",
       "      <td>32391.900000</td>\n",
       "      <td>High School</td>\n",
       "      <td>Delhi</td>\n",
       "      <td>Books</td>\n",
       "      <td>1870.65</td>\n",
       "      <td>2023-03-01</td>\n",
       "      <td>2</td>\n",
       "    </tr>\n",
       "    <tr>\n",
       "      <th>4</th>\n",
       "      <td>5</td>\n",
       "      <td>Male</td>\n",
       "      <td>64</td>\n",
       "      <td>66689.510000</td>\n",
       "      <td>UG</td>\n",
       "      <td>Hyderabad</td>\n",
       "      <td>Electronics</td>\n",
       "      <td>1501.34</td>\n",
       "      <td>NaT</td>\n",
       "      <td>2</td>\n",
       "    </tr>\n",
       "  </tbody>\n",
       "</table>\n",
       "</div>"
      ],
      "text/plain": [
       "  ID  Gender  Age        Income Education_Level       City Product_Category  \\\n",
       "0  1    Male   38  27682.070000              UG      Delhi            Books   \n",
       "1  2    Male   43  33122.210000              UG  Hyderabad          Fitness   \n",
       "2  3  Female   63  54809.758936     High School      Delhi         Clothing   \n",
       "3  4  Female   36  32391.900000     High School      Delhi            Books   \n",
       "4  5    Male   64  66689.510000              UG  Hyderabad      Electronics   \n",
       "\n",
       "   Purchase_Amount Purchase_Date  Satisfaction_Score  \n",
       "0          1591.62    2023-10-05                   4  \n",
       "1          1354.93    2023-03-15                   3  \n",
       "2          3124.15           NaT                   1  \n",
       "3          1870.65    2023-03-01                   2  \n",
       "4          1501.34           NaT                   2  "
      ]
     },
     "execution_count": 11,
     "metadata": {},
     "output_type": "execute_result"
    }
   ],
   "source": [
    "df.head()"
   ]
  },
  {
   "cell_type": "code",
   "execution_count": 12,
   "id": "f5a083cf-b3ee-4a17-8f8c-f18b423ff972",
   "metadata": {},
   "outputs": [
    {
     "data": {
      "text/plain": [
       "Product_Category\n",
       "Books          1088\n",
       "Clothing       1058\n",
       "Grocery         955\n",
       "Electronics     950\n",
       "Fitness         949\n",
       "Name: count, dtype: int64"
      ]
     },
     "execution_count": 12,
     "metadata": {},
     "output_type": "execute_result"
    }
   ],
   "source": [
    "df[\"Product_Category\"].value_counts()"
   ]
  },
  {
   "cell_type": "code",
   "execution_count": 13,
   "id": "39b2edd2-e5b2-453d-81e0-d36436583287",
   "metadata": {},
   "outputs": [
    {
     "data": {
      "text/plain": [
       "<Axes: xlabel='Product_Category', ylabel='Purchase_Amount'>"
      ]
     },
     "execution_count": 13,
     "metadata": {},
     "output_type": "execute_result"
    },
    {
     "data": {
      "image/png": "[encoded data removed]",
      "text/plain": [
       "<Figure size 640x480 with 1 Axes>"
      ]
     },
     "metadata": {},
     "output_type": "display_data"
    }
   ],
   "source": [
    "sns.barplot(df,x = \"Product_Category\",y = \"Purchase_Amount\",estimator = np.sum)"
   ]
  },
  {
   "cell_type": "markdown",
   "id": "2ceadcf2-58ce-48ce-9f73-c776858119f4",
   "metadata": {},
   "source": [
    "### Hypothesis Test: City-wise Average Purchase Amount\n",
    "\n",
    "- **Question**: Do customers from different cities spend differently on average?  \n",
    "- **Method**: One-Way ANOVA  "
   ]
  },
  {
   "cell_type": "code",
   "execution_count": 14,
   "id": "18a43f08-6770-4006-9af4-74268a3002e3",
   "metadata": {},
   "outputs": [
    {
     "name": "stdout",
     "output_type": "stream",
     "text": [
      "F-statistic: 1.2150478210441382\n",
      "p-value: 0.30253837065955064\n"
     ]
    }
   ],
   "source": [
    "from scipy.stats import f_oneway\n",
    "groups = [group[\"Purchase_Amount\"].values for name, group in df.groupby(\"City\")]\n",
    "f_stat, p_val = f_oneway(*groups)\n",
    "\n",
    "print(\"F-statistic:\", f_stat)\n",
    "print(\"p-value:\", p_val)\n"
   ]
  },
  {
   "cell_type": "markdown",
   "id": "e1c2c2d6-caa0-4313-82f2-a0c0b9020fc2",
   "metadata": {},
   "source": [
    "- **Result**:  \n",
    "  - F-statistic: 1.215  \n",
    "  - p-value: 0.303  \n",
    "\n",
    "- **Conclusion**:  \n",
    "  We fail to reject the null hypothesis.  \n",
    "  This suggests that the average purchase amount is **not significantly different** across cities.  \n",
    "  The barplot’s slight differences are likely due to random variation and do not reflect a true difference in spending behavior.\n"
   ]
  },
  {
   "cell_type": "code",
   "execution_count": null,
   "id": "c48e2b2d-076a-4d7b-97d1-b56dd0670649",
   "metadata": {},
   "outputs": [],
   "source": []
  },
  {
   "cell_type": "markdown",
   "id": "2d499185-b510-42b7-a70e-9196999e6d7b",
   "metadata": {},
   "source": [
    "### 🧪 Hypothesis Test: One-Sample t-Test on Purchase Amount\n",
    "\n",
    "- **Question**: Is the average purchase amount in the dataset significantly different from ₹1700?\n",
    "\n",
    "- **Hypotheses**:\n",
    "  - **H₀ (Null Hypothesis)**: The average purchase amount is ₹1700 → μ = 1700\n",
    "  - **H₁ (Alternative Hypothesis)**: The average purchase amount is not ₹1700 → μ ≠ 1700\n",
    "\n",
    "- **Test Type**: Two-tailed one-sample t-test\n"
   ]
  },
  {
   "cell_type": "code",
   "execution_count": 15,
   "id": "84565ab6-3f1b-4b8a-9bb2-1368c605f040",
   "metadata": {},
   "outputs": [
    {
     "name": "stdout",
     "output_type": "stream",
     "text": [
      "T stats value: -10.861451099288626\n",
      "P value: 3.531689925683542e-27\n"
     ]
    }
   ],
   "source": [
    "from scipy import stats\n",
    "\n",
    "Purchase_Amount = df[\"Purchase_Amount\"]\n",
    "population_mean = 1700\n",
    "t_stat,p_value = stats.ttest_1samp(Purchase_Amount,population_mean)\n",
    "\n",
    "print(\"T stats value:\",t_stat)\n",
    "print(\"P value:\",p_value)"
   ]
  },
  {
   "cell_type": "markdown",
   "id": "4ab55e0a-30a8-4a5f-9a11-8224a164bcb3",
   "metadata": {},
   "source": [
    "#### 📊 Test Results\n",
    "- **T-statistic**: -10.8614\n",
    "- **P-value**: 3.53e-27\n",
    "\n",
    "#### 🎯 Interpretation\n",
    "- Since **p-value < 0.05**, we **reject the null hypothesis**.\n",
    "- There **is a statistically significant difference** between the sample mean and ₹1700."
   ]
  },
  {
   "cell_type": "code",
   "execution_count": null,
   "id": "6163cd26-df06-4f8e-bcf6-2868c63c9d2e",
   "metadata": {},
   "outputs": [],
   "source": []
  },
  {
   "cell_type": "code",
   "execution_count": null,
   "id": "19bb34b1-6b70-4dce-aa77-ed6e737cfed4",
   "metadata": {},
   "outputs": [],
   "source": []
  },
  {
   "cell_type": "markdown",
   "id": "7b4582ab-6c38-4db6-a219-50b63d19e13c",
   "metadata": {},
   "source": [
    "### Hypothesis Test: One-Sample Z-Test\n",
    "\n",
    "- **Question**: Is the average purchase amount significantly different from ₹1700, assuming we know the population standard deviation is ₹500?\n",
    "- **Method**: One-Sample Z-Test\n",
    "\n",
    "- **H₀ (Null Hypothesis)**: Mean Purchase_Amount = ₹1700  \n",
    "- **H₁ (Alternative Hypothesis)**: Mean Purchase_Amount ≠ ₹1700\n"
   ]
  },
  {
   "cell_type": "code",
   "execution_count": 16,
   "id": "8dfc31d1-9eb0-4a44-a5cb-d9f5f95ce970",
   "metadata": {},
   "outputs": [
    {
     "name": "stdout",
     "output_type": "stream",
     "text": [
      "Z_stat: -20.134509016211\n",
      "P Value: 0.0\n",
      "Z-statistic: -10.861451099288626\n",
      "P-value: 1.75931079204277e-27\n"
     ]
    }
   ],
   "source": [
    "# Manually using known population standard deviation\n",
    "population_mean = 1700\n",
    "sample_mean = df[\"Purchase_Amount\"].mean()\n",
    "sd = 500\n",
    "n = df[\"Purchase_Amount\"].count()\n",
    "z_stat = (sample_mean - population_mean) / (sd / np.sqrt(n))\n",
    "p_value = 2 * (1 - stats.norm.cdf(abs(z_stat)))\n",
    "print(\"Z_stat:\", z_stat)\n",
    "print(\"P Value:\", p_value)\n",
    "\n",
    "# Using statsmodels (automatically estimates standard deviation from sample)\n",
    "from statsmodels.stats.weightstats import ztest\n",
    "sample = df[\"Purchase_Amount\"]\n",
    "z_stat, p_value = ztest(sample, value=1700, alternative='two-sided')\n",
    "print(\"Z-statistic:\", z_stat)\n",
    "print(\"P-value:\", p_value)\n"
   ]
  },
  {
   "cell_type": "markdown",
   "id": "9562b41b-51a6-4e92-a7db-9054e9b35d4b",
   "metadata": {},
   "source": [
    "### ✅ Combined Hypothesis Test Results\n",
    "\n",
    "#### One-Sample Z-Test (Manual Calculation)\n",
    "- **Z_stat:** `-20.134509016211`  \n",
    "- **P Value:** `0.0`\n",
    "\n",
    "#### One-Sample T-Test (Using SciPy)\n",
    "- **T-statistic:** `-10.861451099288626`  \n",
    "- **P-value:** `1.75931079204277e-27`\n",
    "\n",
    "---\n",
    "\n",
    "### 🧠 Interpretation:\n",
    "Both tests show extremely low p-values (close to 0), so we **reject the null hypothesis**.\n",
    "\n",
    "📌 **Conclusion:**  \n",
    "There is very strong evidence that the average purchase amount is significantly different from the hypothesized mean.\n"
   ]
  },
  {
   "cell_type": "code",
   "execution_count": null,
   "id": "1d1d6525-56b3-48e2-9346-b44ad191174d",
   "metadata": {},
   "outputs": [],
   "source": []
  },
  {
   "cell_type": "markdown",
   "id": "1660a01a-5030-4c34-be73-3a7e2a9acea9",
   "metadata": {},
   "source": [
    "### Hypothesis Test: One-Sample Z-Test (Two-Tailed) Manullay\n",
    "\n",
    "- **Question**: A company claims that the average spending of their customers is ₹2000.  \n",
    "  A random sample of 60 customers shows an average spending of ₹2100 with a population standard deviation of ₹300.  \n",
    "  At a 5% significance level, is there enough evidence to reject the company's claim?\n",
    "\n",
    "- **Type**: One-Sample Z-Test  \n",
    "- **Tail**: Two-Tailed  \n",
    "- **Given**:\n",
    "  - Population Mean (μ₀) = 2000  \n",
    "  - Sample Mean (x̄) = 2100  \n",
    "  - Sample Size (n) = 60  \n",
    "  - Population Standard Deviation (σ) = 300  \n",
    "  - Significance Level (α) = 0.05  \n"
   ]
  },
  {
   "cell_type": "code",
   "execution_count": 17,
   "id": "4b28998d-0daa-4999-acaf-ef77f7dc3518",
   "metadata": {},
   "outputs": [
    {
     "name": "stdout",
     "output_type": "stream",
     "text": [
      "Z_stat: -2.581988897471611\n",
      "P Value: 0.009823274507519297\n"
     ]
    }
   ],
   "source": [
    "population_mean = 2000\n",
    "sample_mean = 2100\n",
    "sd = 300\n",
    "n = 60 \n",
    "z_stat = (population_mean - sample_mean)/(sd/np.sqrt(n))\n",
    "p_value = 2 * (1 - stats.norm.cdf(abs(z_stat)))\n",
    "print(\"Z_stat:\", z_stat)\n",
    "print(\"P Value:\", p_value)"
   ]
  },
  {
   "cell_type": "markdown",
   "id": "3413f114-5a1b-4b9e-a409-73bdb2b623b5",
   "metadata": {},
   "source": [
    "### ✅ Hypothesis Test Result: One-Sample Z-Test (Average Purchase Amount vs ₹2000)\n",
    "\n",
    "- **Test Used**: One-Sample Z-Test  \n",
    "- **Z-Statistic**: `-2.581988897471611`  \n",
    "- **P-Value**: `0.009823274507519297`\n",
    "\n",
    "---\n",
    "\n",
    "### 🧠 Interpretation:\n",
    "Since **p-value < 0.05**, we **reject the null hypothesis**.\n",
    "\n",
    "📌 **Conclusion**:  \n",
    "The average purchase amount is **significantly different** from ₹2000.\n"
   ]
  },
  {
   "cell_type": "code",
   "execution_count": null,
   "id": "ff0956c1-319c-4599-831c-9f5387752cd3",
   "metadata": {},
   "outputs": [],
   "source": []
  },
  {
   "cell_type": "code",
   "execution_count": null,
   "id": "4e42c600-0643-4f96-892f-296ff329f649",
   "metadata": {},
   "outputs": [],
   "source": []
  },
  {
   "cell_type": "code",
   "execution_count": 18,
   "id": "809ebb4e-88da-4f12-b596-9505f2837a70",
   "metadata": {},
   "outputs": [
    {
     "data": {
      "text/html": [
       "<div>\n",
       "<style scoped>\n",
       "    .dataframe tbody tr th:only-of-type {\n",
       "        vertical-align: middle;\n",
       "    }\n",
       "\n",
       "    .dataframe tbody tr th {\n",
       "        vertical-align: top;\n",
       "    }\n",
       "\n",
       "    .dataframe thead th {\n",
       "        text-align: right;\n",
       "    }\n",
       "</style>\n",
       "<table border=\"1\" class=\"dataframe\">\n",
       "  <thead>\n",
       "    <tr style=\"text-align: right;\">\n",
       "      <th></th>\n",
       "      <th>ID</th>\n",
       "      <th>Gender</th>\n",
       "      <th>Age</th>\n",
       "      <th>Income</th>\n",
       "      <th>Education_Level</th>\n",
       "      <th>City</th>\n",
       "      <th>Product_Category</th>\n",
       "      <th>Purchase_Amount</th>\n",
       "      <th>Purchase_Date</th>\n",
       "      <th>Satisfaction_Score</th>\n",
       "    </tr>\n",
       "  </thead>\n",
       "  <tbody>\n",
       "    <tr>\n",
       "      <th>0</th>\n",
       "      <td>1</td>\n",
       "      <td>Male</td>\n",
       "      <td>38</td>\n",
       "      <td>27682.070000</td>\n",
       "      <td>UG</td>\n",
       "      <td>Delhi</td>\n",
       "      <td>Books</td>\n",
       "      <td>1591.62</td>\n",
       "      <td>2023-10-05</td>\n",
       "      <td>4</td>\n",
       "    </tr>\n",
       "    <tr>\n",
       "      <th>1</th>\n",
       "      <td>2</td>\n",
       "      <td>Male</td>\n",
       "      <td>43</td>\n",
       "      <td>33122.210000</td>\n",
       "      <td>UG</td>\n",
       "      <td>Hyderabad</td>\n",
       "      <td>Fitness</td>\n",
       "      <td>1354.93</td>\n",
       "      <td>2023-03-15</td>\n",
       "      <td>3</td>\n",
       "    </tr>\n",
       "    <tr>\n",
       "      <th>2</th>\n",
       "      <td>3</td>\n",
       "      <td>Female</td>\n",
       "      <td>63</td>\n",
       "      <td>54809.758936</td>\n",
       "      <td>High School</td>\n",
       "      <td>Delhi</td>\n",
       "      <td>Clothing</td>\n",
       "      <td>3124.15</td>\n",
       "      <td>NaT</td>\n",
       "      <td>1</td>\n",
       "    </tr>\n",
       "    <tr>\n",
       "      <th>3</th>\n",
       "      <td>4</td>\n",
       "      <td>Female</td>\n",
       "      <td>36</td>\n",
       "      <td>32391.900000</td>\n",
       "      <td>High School</td>\n",
       "      <td>Delhi</td>\n",
       "      <td>Books</td>\n",
       "      <td>1870.65</td>\n",
       "      <td>2023-03-01</td>\n",
       "      <td>2</td>\n",
       "    </tr>\n",
       "    <tr>\n",
       "      <th>4</th>\n",
       "      <td>5</td>\n",
       "      <td>Male</td>\n",
       "      <td>64</td>\n",
       "      <td>66689.510000</td>\n",
       "      <td>UG</td>\n",
       "      <td>Hyderabad</td>\n",
       "      <td>Electronics</td>\n",
       "      <td>1501.34</td>\n",
       "      <td>NaT</td>\n",
       "      <td>2</td>\n",
       "    </tr>\n",
       "  </tbody>\n",
       "</table>\n",
       "</div>"
      ],
      "text/plain": [
       "  ID  Gender  Age        Income Education_Level       City Product_Category  \\\n",
       "0  1    Male   38  27682.070000              UG      Delhi            Books   \n",
       "1  2    Male   43  33122.210000              UG  Hyderabad          Fitness   \n",
       "2  3  Female   63  54809.758936     High School      Delhi         Clothing   \n",
       "3  4  Female   36  32391.900000     High School      Delhi            Books   \n",
       "4  5    Male   64  66689.510000              UG  Hyderabad      Electronics   \n",
       "\n",
       "   Purchase_Amount Purchase_Date  Satisfaction_Score  \n",
       "0          1591.62    2023-10-05                   4  \n",
       "1          1354.93    2023-03-15                   3  \n",
       "2          3124.15           NaT                   1  \n",
       "3          1870.65    2023-03-01                   2  \n",
       "4          1501.34           NaT                   2  "
      ]
     },
     "execution_count": 18,
     "metadata": {},
     "output_type": "execute_result"
    }
   ],
   "source": [
    "df.head()"
   ]
  },
  {
   "cell_type": "code",
   "execution_count": null,
   "id": "8ab2fa13-e17a-4fa5-89f1-26af088077b0",
   "metadata": {},
   "outputs": [],
   "source": []
  },
  {
   "cell_type": "code",
   "execution_count": null,
   "id": "ac84128a-3d41-49f1-957f-648e440483c2",
   "metadata": {},
   "outputs": [],
   "source": []
  },
  {
   "cell_type": "markdown",
   "id": "81bf3b3a-6c4c-4b79-9ac0-fa80e74dff11",
   "metadata": {},
   "source": [
    "### Hypothesis Test: Gender-wise Purchase Amount Comparison\n",
    "\n",
    "- **Question**: Is there a significant difference in average purchase amount between male and female customers?\n",
    "- **Method**: Two-Sample T-Test (Unequal Variance, Welch’s T-Test)\n",
    "\n",
    "- **H₀ (Null Hypothesis)**: Mean purchase amount (Male) = Mean purchase amount (Female)  \n",
    "- **H₁ (Alternative Hypothesis)**: Mean purchase amount (Male) ≠ Mean purchase amount (Female)  \n",
    "- **Significance Level (α)**: 0.05  \n"
   ]
  },
  {
   "cell_type": "code",
   "execution_count": 19,
   "id": "8561db43-d138-42df-b7de-8c586acf4c8a",
   "metadata": {},
   "outputs": [
    {
     "name": "stdout",
     "output_type": "stream",
     "text": [
      "T-statistic: 0.8206306188310957\n",
      "P-value: 0.4119006177731803\n"
     ]
    }
   ],
   "source": [
    "from scipy import stats\n",
    "\n",
    "df_male = df[df[\"Gender\"] == \"Male\"][\"Purchase_Amount\"]\n",
    "df_female = df[df[\"Gender\"] == \"Female\"][\"Purchase_Amount\"]\n",
    "\n",
    "t_stat, p_value = stats.ttest_ind(df_male, df_female, equal_var=False)\n",
    "\n",
    "print(\"T-statistic:\", t_stat)\n",
    "print(\"P-value:\", p_value)\n"
   ]
  },
  {
   "cell_type": "markdown",
   "id": "76cd3ae5-7c25-4894-9efd-30420b519052",
   "metadata": {},
   "source": [
    "### T-Test Result: Gender-wise Purchase Amount\n",
    "\n",
    "- **T-statistic**: 0.8206  \n",
    "- **P-value**: 0.4119  \n",
    "\n",
    "#### ✅ Conclusion:\n",
    "Since the **p-value (0.4119) > 0.05**, we **fail to reject the null hypothesis**.\n",
    "\n",
    "#### 💡 Interpretation:\n",
    "There is **no statistically significant difference** in average purchase amount between male and female customers.\n"
   ]
  },
  {
   "cell_type": "code",
   "execution_count": null,
   "id": "aa929e0a-30d8-4ea8-9a7e-2c37c534edae",
   "metadata": {},
   "outputs": [],
   "source": []
  },
  {
   "cell_type": "markdown",
   "id": "45f20c22-2351-4bdc-8ef4-27670d45afc1",
   "metadata": {},
   "source": [
    "### Hypothesis Test: Two-Sample Z-Test\n",
    "\n",
    "- **Question**: Is there a significant difference in the average purchase amount between male and female customers, assuming the population standard deviation for both groups is known (₹500)?\n",
    "- **Method**: Two-Sample Z-Test\n",
    "- **H₀ (Null Hypothesis)**: Mean (Male) = Mean (Female)  \n",
    "- **H₁ (Alternative Hypothesis)**: Mean (Male) ≠ Mean (Female)\n",
    "\n",
    "🎯 **Task**: Solve this using Python using `statsmodels` or `scipy`. Assume σ₁ = σ₂ = ₹500.\n"
   ]
  },
  {
   "cell_type": "code",
   "execution_count": 20,
   "id": "5ea88c90-988f-4803-9c22-9919d9701284",
   "metadata": {},
   "outputs": [
    {
     "name": "stdout",
     "output_type": "stream",
     "text": [
      "z_stat: 0.8178706198717411\n",
      "p_value: 0.41343106817704633\n"
     ]
    }
   ],
   "source": [
    "from statsmodels.stats.weightstats import ztest\n",
    "grp1 = df[df[\"Gender\"] == \"Male\"][\"Purchase_Amount\"]\n",
    "grp2 = df[df[\"Gender\"] == \"Female\"][\"Purchase_Amount\"]\n",
    "z_stat, p_value = ztest(grp1,grp2,alternative = 'two-sided')\n",
    "print(\"z_stat:\",z_stat)\n",
    "print(\"p_value:\",p_value)"
   ]
  },
  {
   "cell_type": "markdown",
   "id": "e9b7a9ee-b8bf-40af-bfff-083cab6e39a8",
   "metadata": {},
   "source": [
    "### ✅ Hypothesis Test Result: \n",
    "\n",
    "- **Z-Statistic**: `0.8178706198717411`  \n",
    "- **P-Value**: `0.41343106817704633`\n",
    "\n",
    "---\n",
    "\n",
    "### 🧠 Interpretation:\n",
    "Since **p-value > 0.05**, we **fail to reject the null hypothesis**.\n",
    "\n",
    "📌 **Conclusion**:  \n",
    "There is **no statistically significant difference** in the average purchase amount between male and female customers.\n"
   ]
  },
  {
   "cell_type": "code",
   "execution_count": null,
   "id": "337e5af5-6cf3-4d89-8687-50eb9a5d862c",
   "metadata": {},
   "outputs": [],
   "source": []
  },
  {
   "cell_type": "code",
   "execution_count": null,
   "id": "4a3dcee0-fd85-4e8d-8ddf-7f10c3a7c16c",
   "metadata": {},
   "outputs": [],
   "source": []
  },
  {
   "cell_type": "markdown",
   "id": "7df057a1-feed-4963-bb57-a8537d36e996",
   "metadata": {},
   "source": [
    "### Hypothesis Test: Two-Sample Z-Test (Manual Calculation)\n",
    "\n",
    "- **Question**: Is there a significant difference between the average Purchase_Amount of Male and Female customers, assuming population standard deviations are known?  \n",
    "- **Given**:  \n",
    "  - Male group mean = 2100, population SD = 300, sample size = 60  \n",
    "  - Female group mean = 2000, population SD = 250, sample size = 55  \n",
    "- **Method**: Two-Sample Z-Test (Two-Tailed)  \n",
    "\n",
    "- **H₀ (Null Hypothesis)**: Mean(Male) = Mean(Female)  \n",
    "- **H₁ (Alternative Hypothesis)**: Mean(Male) ≠ Mean(Female)\n"
   ]
  },
  {
   "cell_type": "code",
   "execution_count": 21,
   "id": "e66a7a91-9f3d-4104-aacd-d28603664d5e",
   "metadata": {},
   "outputs": [
    {
     "name": "stdout",
     "output_type": "stream",
     "text": [
      "z_stat: 1.9475891374404053\n",
      "P_value: 0.051464144555517066\n"
     ]
    }
   ],
   "source": [
    "male_mean = 2100\n",
    "female_mean = 2000\n",
    "male_std = 300\n",
    "female_std = 250\n",
    "male_n = 60\n",
    "female_n = 55\n",
    "\n",
    "z = (male_mean-female_mean)/np.sqrt((((male_std)**2)/male_n)+(((female_std)**2)/female_n))\n",
    "p_value = 2*(1-stats.norm.cdf(abs(z)))\n",
    "print(\"z_stat:\",z)\n",
    "print(\"P_value:\",p_value)"
   ]
  },
  {
   "cell_type": "markdown",
   "id": "b9a3b165-94ae-4739-bf4f-08be0456e407",
   "metadata": {},
   "source": [
    "### Result: Two-Sample Z-Test (Manual Calculation)\n",
    "\n",
    "- **Z-statistic**: 1.9475891374404053  \n",
    "- **P-value**: 0.051464144555517066  \n",
    "\n",
    "🧠 Interpretation:  \n",
    "Since the p-value (0.0515) is slightly greater than 0.05, we fail to reject the null hypothesis.  \n",
    "There is not enough evidence to conclude a significant difference between the male and female average purchase amounts.\n"
   ]
  },
  {
   "cell_type": "code",
   "execution_count": null,
   "id": "318927ab-1f2f-4c85-ac62-b378dfe0d094",
   "metadata": {},
   "outputs": [],
   "source": []
  },
  {
   "cell_type": "code",
   "execution_count": 22,
   "id": "0b006fa5-520f-4f06-bca0-eb81067f3c79",
   "metadata": {},
   "outputs": [
    {
     "data": {
      "text/html": [
       "<div>\n",
       "<style scoped>\n",
       "    .dataframe tbody tr th:only-of-type {\n",
       "        vertical-align: middle;\n",
       "    }\n",
       "\n",
       "    .dataframe tbody tr th {\n",
       "        vertical-align: top;\n",
       "    }\n",
       "\n",
       "    .dataframe thead th {\n",
       "        text-align: right;\n",
       "    }\n",
       "</style>\n",
       "<table border=\"1\" class=\"dataframe\">\n",
       "  <thead>\n",
       "    <tr style=\"text-align: right;\">\n",
       "      <th></th>\n",
       "      <th>ID</th>\n",
       "      <th>Gender</th>\n",
       "      <th>Age</th>\n",
       "      <th>Income</th>\n",
       "      <th>Education_Level</th>\n",
       "      <th>City</th>\n",
       "      <th>Product_Category</th>\n",
       "      <th>Purchase_Amount</th>\n",
       "      <th>Purchase_Date</th>\n",
       "      <th>Satisfaction_Score</th>\n",
       "    </tr>\n",
       "  </thead>\n",
       "  <tbody>\n",
       "    <tr>\n",
       "      <th>0</th>\n",
       "      <td>1</td>\n",
       "      <td>Male</td>\n",
       "      <td>38</td>\n",
       "      <td>27682.070000</td>\n",
       "      <td>UG</td>\n",
       "      <td>Delhi</td>\n",
       "      <td>Books</td>\n",
       "      <td>1591.62</td>\n",
       "      <td>2023-10-05</td>\n",
       "      <td>4</td>\n",
       "    </tr>\n",
       "    <tr>\n",
       "      <th>1</th>\n",
       "      <td>2</td>\n",
       "      <td>Male</td>\n",
       "      <td>43</td>\n",
       "      <td>33122.210000</td>\n",
       "      <td>UG</td>\n",
       "      <td>Hyderabad</td>\n",
       "      <td>Fitness</td>\n",
       "      <td>1354.93</td>\n",
       "      <td>2023-03-15</td>\n",
       "      <td>3</td>\n",
       "    </tr>\n",
       "    <tr>\n",
       "      <th>2</th>\n",
       "      <td>3</td>\n",
       "      <td>Female</td>\n",
       "      <td>63</td>\n",
       "      <td>54809.758936</td>\n",
       "      <td>High School</td>\n",
       "      <td>Delhi</td>\n",
       "      <td>Clothing</td>\n",
       "      <td>3124.15</td>\n",
       "      <td>NaT</td>\n",
       "      <td>1</td>\n",
       "    </tr>\n",
       "    <tr>\n",
       "      <th>3</th>\n",
       "      <td>4</td>\n",
       "      <td>Female</td>\n",
       "      <td>36</td>\n",
       "      <td>32391.900000</td>\n",
       "      <td>High School</td>\n",
       "      <td>Delhi</td>\n",
       "      <td>Books</td>\n",
       "      <td>1870.65</td>\n",
       "      <td>2023-03-01</td>\n",
       "      <td>2</td>\n",
       "    </tr>\n",
       "    <tr>\n",
       "      <th>4</th>\n",
       "      <td>5</td>\n",
       "      <td>Male</td>\n",
       "      <td>64</td>\n",
       "      <td>66689.510000</td>\n",
       "      <td>UG</td>\n",
       "      <td>Hyderabad</td>\n",
       "      <td>Electronics</td>\n",
       "      <td>1501.34</td>\n",
       "      <td>NaT</td>\n",
       "      <td>2</td>\n",
       "    </tr>\n",
       "  </tbody>\n",
       "</table>\n",
       "</div>"
      ],
      "text/plain": [
       "  ID  Gender  Age        Income Education_Level       City Product_Category  \\\n",
       "0  1    Male   38  27682.070000              UG      Delhi            Books   \n",
       "1  2    Male   43  33122.210000              UG  Hyderabad          Fitness   \n",
       "2  3  Female   63  54809.758936     High School      Delhi         Clothing   \n",
       "3  4  Female   36  32391.900000     High School      Delhi            Books   \n",
       "4  5    Male   64  66689.510000              UG  Hyderabad      Electronics   \n",
       "\n",
       "   Purchase_Amount Purchase_Date  Satisfaction_Score  \n",
       "0          1591.62    2023-10-05                   4  \n",
       "1          1354.93    2023-03-15                   3  \n",
       "2          3124.15           NaT                   1  \n",
       "3          1870.65    2023-03-01                   2  \n",
       "4          1501.34           NaT                   2  "
      ]
     },
     "execution_count": 22,
     "metadata": {},
     "output_type": "execute_result"
    }
   ],
   "source": [
    "df.head()"
   ]
  },
  {
   "cell_type": "code",
   "execution_count": null,
   "id": "0ddb0e01-a06b-4673-9d5d-51caabceeaf0",
   "metadata": {},
   "outputs": [],
   "source": []
  },
  {
   "cell_type": "code",
   "execution_count": null,
   "id": "dcb1c178-c267-4624-9043-c372d9227e94",
   "metadata": {},
   "outputs": [],
   "source": []
  },
  {
   "cell_type": "markdown",
   "id": "9dcf3c00-0892-48c2-b867-9ac9c84702c1",
   "metadata": {},
   "source": [
    "### Hypothesis Test: Chi-Square Test Using CSV Data\n",
    "\n",
    "- **Question**: Is there a relationship between `Gender` and `City` in our dataset?\n"
   ]
  },
  {
   "cell_type": "code",
   "execution_count": 23,
   "id": "05c5a52c-788a-4156-9c54-5ab0b5c55736",
   "metadata": {},
   "outputs": [
    {
     "name": "stdout",
     "output_type": "stream",
     "text": [
      "Chi-square statistic: 3.9322902785003615\n",
      "Degrees of Freedom: 9\n",
      "P-value: 0.9158121766145558\n"
     ]
    }
   ],
   "source": [
    "from scipy.stats import chi2_contingency\n",
    "contigency_table = pd.crosstab(df[\"Gender\"],df[\"City\"])\n",
    "chi2,p_value,dof,expected = chi2_contingency(contigency_table)\n",
    "print(\"Chi-square statistic:\", chi2)\n",
    "print(\"Degrees of Freedom:\", dof)\n",
    "print(\"P-value:\", p_value)"
   ]
  },
  {
   "cell_type": "markdown",
   "id": "b947cc8d-cc45-45bf-9b45-df26c7a29635",
   "metadata": {},
   "source": [
    "### 🧪 Chi-Square Test Result\n",
    "\n",
    "- **Test**: Independence between `Gender` and `City`\n",
    "- **Chi-square statistic**: 3.932  \n",
    "- **Degrees of Freedom**: 9  \n",
    "- **P-value**: 0.9158  \n",
    "\n",
    "---\n",
    "\n",
    "### ✅ Conclusion:\n",
    "Since the p-value is **greater than 0.05**, we **fail to reject the null hypothesis**.\n",
    "\n",
    "### 📌 Analyst Statement:\n",
    "> There is **no statistically significant relationship** between a customer's **Gender** and their **City** in this dataset.  \n",
    "> The distribution of gender across cities appears to be **independent**.\n"
   ]
  },
  {
   "cell_type": "code",
   "execution_count": null,
   "id": "4f75f4d9-36a2-4ddf-8dd9-e32b1509319d",
   "metadata": {},
   "outputs": [],
   "source": []
  },
  {
   "cell_type": "markdown",
   "id": "b46f2c34-28c1-4b41-875f-d35a1158bbfa",
   "metadata": {},
   "source": [
    "### Hypothesis Test: One-Way ANOVA\n",
    "\n",
    "**Question**:  \n",
    "Is there a significant difference in average `Purchase_Amount` between customers from **Delhi**, **Mumbai**, and **Bangaluru**?\n"
   ]
  },
  {
   "cell_type": "code",
   "execution_count": 24,
   "id": "c519c54c-98a7-45db-874d-d749bf248042",
   "metadata": {},
   "outputs": [
    {
     "name": "stdout",
     "output_type": "stream",
     "text": [
      "F_stat: 1.2150478210441382\n",
      "p_value: 0.30253837065955064\n"
     ]
    }
   ],
   "source": [
    "# Filtering customer who belongs to Delhi, Mumbai and Bangaluru\n",
    "df_cust = df[df[\"City\"].isin([\"Delhi\",\"Mumbai\",\"Bengaluru\"])]\n",
    "\n",
    "from scipy.stats import f_oneway\n",
    "\n",
    "grouped = df.groupby(\"City\")[\"Purchase_Amount\"].apply(list)\n",
    "\n",
    "f_stat,p_value = f_oneway(*grouped)  # * to unpack the list\n",
    "\n",
    "print(\"F_stat:\",f_stat)\n",
    "print(\"p_value:\",p_value)"
   ]
  },
  {
   "cell_type": "markdown",
   "id": "3212dd2d-352a-4094-9521-f9b4ab6997a8",
   "metadata": {},
   "source": [
    "### ANOVA Test Result\n",
    "\n",
    "- **F-statistic**: 1.215  \n",
    "- **P-value**: 0.3025  \n",
    "- **Interpretation**: Since the p-value (0.3025) is greater than the significance level of 0.05, we **fail to reject the null hypothesis**.\n",
    "---\n",
    "\n",
    "🧠 **Analyst Insight**:  \n",
    "There is **no statistically significant difference** in the average `Purchase_Amount` between customers from **Delhi**, **Mumbai**, and **Bangaluru**.\n"
   ]
  },
  {
   "cell_type": "code",
   "execution_count": null,
   "id": "83e9ae26-4817-426e-bf54-f2d062dfea9f",
   "metadata": {},
   "outputs": [],
   "source": []
  },
  {
   "cell_type": "code",
   "execution_count": null,
   "id": "534261e6-0fd4-4877-9d49-9ac494a7ad99",
   "metadata": {},
   "outputs": [],
   "source": []
  },
  {
   "cell_type": "code",
   "execution_count": null,
   "id": "e0521ec9-7ca6-4649-89a4-f5863465a352",
   "metadata": {},
   "outputs": [],
   "source": []
  },
  {
   "cell_type": "markdown",
   "id": "a98341ac-842f-4fa6-98b3-fb799c6e51c1",
   "metadata": {},
   "source": [
    "### Practice Questions "
   ]
  },
  {
   "cell_type": "markdown",
   "id": "478fb47a-00ea-4fd0-8caf-0efe432737bb",
   "metadata": {},
   "source": [
    "📌 **Question 1**\n",
    "\n",
    "A sample of 60 customers showed an average monthly spending of ₹2100. Historically, the population average is ₹2000 with a known population standard deviation of ₹300.\n",
    "\n",
    "At a 5% significance level, test whether the average monthly spending has changed.\n"
   ]
  },
  {
   "cell_type": "code",
   "execution_count": 25,
   "id": "2fd01f4d-c054-47c9-b3ce-c89dd54c8f2f",
   "metadata": {},
   "outputs": [
    {
     "name": "stdout",
     "output_type": "stream",
     "text": [
      "z: 2.581988897471611\n",
      "p_value: 0.009823274507519297\n"
     ]
    }
   ],
   "source": [
    "# Given Info (for manual calculation)\n",
    "population_mean = 2000        # μ\n",
    "sample_mean = 2100            # x̄\n",
    "population_std = 300          # σ\n",
    "sample_size = 60              # n\n",
    "\n",
    "z = (sample_mean-population_mean)/(population_std/np.sqrt(sample_size))\n",
    "p_value = 2 *(1-stats.norm.cdf(abs(z)))\n",
    "print(\"z:\",z)\n",
    "print(\"p_value:\",p_value)"
   ]
  },
  {
   "cell_type": "markdown",
   "id": "55111481-689f-4199-bd3d-14ac71a18aec",
   "metadata": {},
   "source": [
    "### 📊 Hypothesis Test Result (One-Sample Z-Test)\n",
    "\n",
    "- **Z-statistic**: 2.5819  \n",
    "- **P-value**: 0.0098  \n",
    "\n",
    "🧠 **Analyst's Interpretation**:  \n",
    "Since the p-value (0.0098) is **less than** the significance level (typically 0.05), we **reject the null hypothesis**.\n",
    "\n",
    "➡️ **Conclusion**: There is **significant evidence** to suggest that the average monthly spending **has changed** from ₹2000.\n"
   ]
  },
  {
   "cell_type": "code",
   "execution_count": null,
   "id": "50e021c3-3dc7-46d0-9e02-bd129e5eaf95",
   "metadata": {},
   "outputs": [],
   "source": []
  },
  {
   "cell_type": "code",
   "execution_count": null,
   "id": "2775e5e3-a655-467b-8daa-c92fbdfaed1c",
   "metadata": {},
   "outputs": [],
   "source": []
  },
  {
   "cell_type": "markdown",
   "id": "2e43618e-6b97-4fa7-8bba-9e489644efae",
   "metadata": {},
   "source": [
    "### 🔍 Hypothesis Test: Two-Sample Z-Test\n",
    "📌 **Question 2**\n",
    "\n",
    "A business analyst wants to determine whether male and female customers spend significantly different amounts on average.\n",
    "\n",
    "The following data was collected:\n",
    "- Mean (Male): ₹2100\n",
    "- Mean (Female): ₹2000\n",
    "- Std Dev (Male): ₹300\n",
    "- Std Dev (Female): ₹250\n",
    "- Sample Size (Male): 500\n",
    "- Sample Size (Female): 480\n",
    "\n",
    "At a 5% significance level, test whether there is a significant difference in average spending between male and female customers.\n",
    "\n"
   ]
  },
  {
   "cell_type": "code",
   "execution_count": 26,
   "id": "305155f0-bc94-4312-b2a2-90fc6d079f9b",
   "metadata": {},
   "outputs": [
    {
     "name": "stdout",
     "output_type": "stream",
     "text": [
      "5.67771082995926\n",
      "1.3650922614516503e-08\n"
     ]
    }
   ],
   "source": [
    "# 🎯 Given Information for Manual Two-Sample Z-Test Calculation\n",
    "\n",
    "mean_male = 2100\n",
    "mean_female = 2000\n",
    "std_male = 300\n",
    "std_female = 250\n",
    "n_male = 500\n",
    "n_female = 480\n",
    "\n",
    "z = (mean_male-mean_female)/np.sqrt(((std_male**2)/n_male)+(std_female**2)/n_female)\n",
    "p_value = 2*(1-stats.norm.cdf(abs(z)))\n",
    "\n",
    "print(z)\n",
    "print(p_value)"
   ]
  },
  {
   "cell_type": "markdown",
   "id": "da91dbc2-3a37-4d14-a33d-c95554f32549",
   "metadata": {},
   "source": [
    "### ✅ Hypothesis Test Result\n",
    "\n",
    "- **Z-statistic**: 5.678  \n",
    "- **P-value**: 1.36 × 10⁻⁸\n",
    "\n",
    "Since **p-value < 0.05**, we **reject the null hypothesis**.\n",
    "\n",
    "🔍 **Conclusion**:  \n",
    "There is significant evidence that the **average spending between male and female customers is different**.\n"
   ]
  },
  {
   "cell_type": "code",
   "execution_count": 27,
   "id": "48f75f7c-b029-4c71-b2e6-c2843c8e7cdc",
   "metadata": {},
   "outputs": [
    {
     "data": {
      "text/html": [
       "<div>\n",
       "<style scoped>\n",
       "    .dataframe tbody tr th:only-of-type {\n",
       "        vertical-align: middle;\n",
       "    }\n",
       "\n",
       "    .dataframe tbody tr th {\n",
       "        vertical-align: top;\n",
       "    }\n",
       "\n",
       "    .dataframe thead th {\n",
       "        text-align: right;\n",
       "    }\n",
       "</style>\n",
       "<table border=\"1\" class=\"dataframe\">\n",
       "  <thead>\n",
       "    <tr style=\"text-align: right;\">\n",
       "      <th></th>\n",
       "      <th>ID</th>\n",
       "      <th>Gender</th>\n",
       "      <th>Age</th>\n",
       "      <th>Income</th>\n",
       "      <th>Education_Level</th>\n",
       "      <th>City</th>\n",
       "      <th>Product_Category</th>\n",
       "      <th>Purchase_Amount</th>\n",
       "      <th>Purchase_Date</th>\n",
       "      <th>Satisfaction_Score</th>\n",
       "    </tr>\n",
       "  </thead>\n",
       "  <tbody>\n",
       "    <tr>\n",
       "      <th>0</th>\n",
       "      <td>1</td>\n",
       "      <td>Male</td>\n",
       "      <td>38</td>\n",
       "      <td>27682.070000</td>\n",
       "      <td>UG</td>\n",
       "      <td>Delhi</td>\n",
       "      <td>Books</td>\n",
       "      <td>1591.62</td>\n",
       "      <td>2023-10-05</td>\n",
       "      <td>4</td>\n",
       "    </tr>\n",
       "    <tr>\n",
       "      <th>1</th>\n",
       "      <td>2</td>\n",
       "      <td>Male</td>\n",
       "      <td>43</td>\n",
       "      <td>33122.210000</td>\n",
       "      <td>UG</td>\n",
       "      <td>Hyderabad</td>\n",
       "      <td>Fitness</td>\n",
       "      <td>1354.93</td>\n",
       "      <td>2023-03-15</td>\n",
       "      <td>3</td>\n",
       "    </tr>\n",
       "    <tr>\n",
       "      <th>2</th>\n",
       "      <td>3</td>\n",
       "      <td>Female</td>\n",
       "      <td>63</td>\n",
       "      <td>54809.758936</td>\n",
       "      <td>High School</td>\n",
       "      <td>Delhi</td>\n",
       "      <td>Clothing</td>\n",
       "      <td>3124.15</td>\n",
       "      <td>NaT</td>\n",
       "      <td>1</td>\n",
       "    </tr>\n",
       "    <tr>\n",
       "      <th>3</th>\n",
       "      <td>4</td>\n",
       "      <td>Female</td>\n",
       "      <td>36</td>\n",
       "      <td>32391.900000</td>\n",
       "      <td>High School</td>\n",
       "      <td>Delhi</td>\n",
       "      <td>Books</td>\n",
       "      <td>1870.65</td>\n",
       "      <td>2023-03-01</td>\n",
       "      <td>2</td>\n",
       "    </tr>\n",
       "    <tr>\n",
       "      <th>4</th>\n",
       "      <td>5</td>\n",
       "      <td>Male</td>\n",
       "      <td>64</td>\n",
       "      <td>66689.510000</td>\n",
       "      <td>UG</td>\n",
       "      <td>Hyderabad</td>\n",
       "      <td>Electronics</td>\n",
       "      <td>1501.34</td>\n",
       "      <td>NaT</td>\n",
       "      <td>2</td>\n",
       "    </tr>\n",
       "  </tbody>\n",
       "</table>\n",
       "</div>"
      ],
      "text/plain": [
       "  ID  Gender  Age        Income Education_Level       City Product_Category  \\\n",
       "0  1    Male   38  27682.070000              UG      Delhi            Books   \n",
       "1  2    Male   43  33122.210000              UG  Hyderabad          Fitness   \n",
       "2  3  Female   63  54809.758936     High School      Delhi         Clothing   \n",
       "3  4  Female   36  32391.900000     High School      Delhi            Books   \n",
       "4  5    Male   64  66689.510000              UG  Hyderabad      Electronics   \n",
       "\n",
       "   Purchase_Amount Purchase_Date  Satisfaction_Score  \n",
       "0          1591.62    2023-10-05                   4  \n",
       "1          1354.93    2023-03-15                   3  \n",
       "2          3124.15           NaT                   1  \n",
       "3          1870.65    2023-03-01                   2  \n",
       "4          1501.34           NaT                   2  "
      ]
     },
     "execution_count": 27,
     "metadata": {},
     "output_type": "execute_result"
    }
   ],
   "source": [
    "df.head()"
   ]
  },
  {
   "cell_type": "code",
   "execution_count": null,
   "id": "b760fd30-32d9-4d29-96dc-3bdbe270e776",
   "metadata": {},
   "outputs": [],
   "source": []
  },
  {
   "cell_type": "markdown",
   "id": "fe535ade-e2e9-40b7-9f5c-ae0d0b34c96c",
   "metadata": {},
   "source": [
    "📌 **Question 3**\n",
    "\n",
    "A business analyst is examining whether the average purchase amounts across customers in Delhi, Mumbai, and Bengaluru differ significantly.\n",
    "Using the `df` dataset, test the difference in average `Purchase_Amount` across the three cities.\n",
    "\n",
    "- Variable: `Purchase_Amount`\n",
    "- Grouping: `City` (Delhi, Mumbai, Bengaluru)\n",
    "- Significance Level (α): 0.05\n",
    "\n",
    "**H₀ (Null Hypothesis):** The average purchase amounts are equal across the three cities.\n",
    "\n",
    "**H₁ (Alternative Hypothesis):** At least one city has a different average purchase amount.\n"
   ]
  },
  {
   "cell_type": "code",
   "execution_count": 30,
   "id": "af9b8b92-5766-4f15-8a97-9a2f1d6af229",
   "metadata": {},
   "outputs": [
    {
     "name": "stdout",
     "output_type": "stream",
     "text": [
      "1.2374975124136673\n",
      "0.29021643950504145\n"
     ]
    }
   ],
   "source": [
    "df_three_city = df[df[\"City\"].isin([\"Delhi\",\"Mumbai\",\"Bengaluru\"])]\n",
    "grouped = df_three_city.groupby(\"City\")[\"Purchase_Amount\"].apply(list)\n",
    "f_stat,p_value = f_oneway(*grouped)\n",
    "print(f_stat)\n",
    "print(p_value)"
   ]
  },
  {
   "cell_type": "markdown",
   "id": "0e5a8739-3464-4d26-8591-d160d2e3e34d",
   "metadata": {},
   "source": [
    "### ✅ Result: One-Way ANOVA Test\n",
    "\n",
    "**F-statistic**: 1.2375  \n",
    "**P-value**: 0.2902\n",
    "\n",
    "📌 **Conclusion**:  \n",
    "Since the p-value (0.2902) is **greater than** the significance level (0.05), we **fail to reject the null hypothesis**.\n",
    "\n",
    "🧠 **Analyst Interpretation**:  \n",
    "There is **no statistically significant difference** in average purchase amount among customers from **Delhi, Mumbai, and Bengaluru**.\n"
   ]
  },
  {
   "cell_type": "code",
   "execution_count": null,
   "id": "b32779be-9897-48d8-a4aa-90013091799b",
   "metadata": {},
   "outputs": [],
   "source": []
  },
  {
   "cell_type": "code",
   "execution_count": null,
   "id": "be0e86ce-6eaa-40be-96ce-e3db634a605a",
   "metadata": {},
   "outputs": [],
   "source": []
  },
  {
   "cell_type": "markdown",
   "id": "e5f11b9b-371e-4e46-9f7a-20a70041753d",
   "metadata": {},
   "source": [
    "📌 **Question 4**\n",
    "\n",
    "An analyst wants to determine whether there's a significant difference in the purchase amounts between customers from Delhi and Mumbai.\n",
    "\n",
    "Use the available dataset to test the hypothesis at a 5% significance level.\n",
    "\n",
    "- **H₀ (Null Hypothesis)**: There is **no significant difference** in purchase amounts between Delhi and Mumbai customers.  \n",
    "- **H₁ (Alternative Hypothesis)**: There **is a significant difference** in purchase amounts between Delhi and Mumbai customers.\n"
   ]
  },
  {
   "cell_type": "code",
   "execution_count": 46,
   "id": "04f736ef-4b5e-4cf4-af04-ec7c5a4430e0",
   "metadata": {},
   "outputs": [
    {
     "name": "stdout",
     "output_type": "stream",
     "text": [
      "-1.6576532236953174\n",
      "0.09738748028842603\n",
      "t_stat: -1.6576532236953174\n",
      "p_value: 0.09760274759117184\n"
     ]
    }
   ],
   "source": [
    "df_x1 = df[df[\"City\"] == \"Delhi\"]\n",
    "df_x2 = df[df[\"City\"] == \"Mumbai\"]\n",
    "mean_x1 = df_x1[\"Purchase_Amount\"].mean()\n",
    "mean_x2 = df_x2[\"Purchase_Amount\"].mean()\n",
    "std_x1 = df_x1[\"Purchase_Amount\"].std()\n",
    "std_x2 = df_x2[\"Purchase_Amount\"].std()\n",
    "n1 = df_x1[\"ID\"].count()\n",
    "n2 = df_x2[\"ID\"].count()\n",
    "\n",
    "# By formula:- \n",
    "t_stat = (mean_x1 - mean_x2)/np.sqrt(((std_x1**2)/n1)+((std_x2**2)/n2))\n",
    "p_value = 2 * (1 - stats.norm.cdf(abs(t_stat)))\n",
    "print(t_stat)\n",
    "print(p_value)\n",
    "\n",
    "# By python:-\n",
    "from scipy import stats\n",
    "\n",
    "df_city1 = df[df[\"City\"] == \"Delhi\"][\"Purchase_Amount\"]\n",
    "df_city2 = df[df[\"City\"] == \"Mumbai\"][\"Purchase_Amount\"]\n",
    "\n",
    "t_stat,p_value = stats.ttest_ind(df_city1,df_city2,equal_var = False)\n",
    "\n",
    "print(\"t_stat:\",t_stat)\n",
    "print(\"p_value:\",p_value)"
   ]
  },
  {
   "cell_type": "markdown",
   "id": "9247517d-cd23-4bf0-998e-85e9d1c73f01",
   "metadata": {},
   "source": [
    "### ✅ Hypothesis Test Result\n",
    "\n",
    "- **Test Used**: Two-Sample T-Test (Unequal Variance)\n",
    "- **Test Statistic (t)**: -1.6577  \n",
    "- **P-value**: 0.0976  \n",
    "\n",
    "📌 **Conclusion**:  \n",
    "Since the p-value (0.0976) is greater than the significance level (0.05), we **fail to reject the null hypothesis**.\n",
    "\n",
    "🔍 **Interpretation**:  \n",
    "There is **no statistically significant difference** in the average purchase amounts between customers from **Delhi** and **Mumbai**.\n"
   ]
  },
  {
   "cell_type": "code",
   "execution_count": null,
   "id": "d7335270-9619-4953-8041-7342f123da43",
   "metadata": {},
   "outputs": [],
   "source": []
  },
  {
   "cell_type": "code",
   "execution_count": null,
   "id": "655a7036-f2b5-4bb5-82df-3e3cc6eea40a",
   "metadata": {},
   "outputs": [],
   "source": []
  },
  {
   "cell_type": "code",
   "execution_count": null,
   "id": "5ea58d51-da01-45d1-8513-5b64b0164981",
   "metadata": {},
   "outputs": [],
   "source": []
  },
  {
   "cell_type": "markdown",
   "id": "8c32c446-7a55-4e16-8971-d9b66a25512e",
   "metadata": {},
   "source": [
    "📌 **Question 5**\n",
    "\n",
    "A business analyst wants to examine whether there's an association between **Gender** and **Customer City** in the customer dataset.\n",
    "\n",
    "Using a significance level of 0.05, test whether the variables \"Gender\" and \"City\" are independent.\n",
    "\n",
    "- **H₀ (Null Hypothesis)**: Gender and City are independent of each other.  \n",
    "- **H₁ (Alternative Hypothesis)**: Gender and City are **not** independent — there is a significant association between them.\n"
   ]
  },
  {
   "cell_type": "code",
   "execution_count": 49,
   "id": "3cf71401-25ec-4b46-a996-e23fc720cdd5",
   "metadata": {},
   "outputs": [
    {
     "name": "stdout",
     "output_type": "stream",
     "text": [
      "3.9322902785003615\n",
      "p_value: 0.9158121766145558\n",
      "dof: 9\n"
     ]
    }
   ],
   "source": [
    "from scipy.stats import chi2_contingency\n",
    "\n",
    "cont_table = pd.crosstab(df[\"Gender\"],df[\"City\"])\n",
    "chi2,p_value,dof,expected = chi2_contingency(cont_table)\n",
    "\n",
    "print(chi2)\n",
    "print(\"p_value:\",p_value)\n",
    "print(\"dof:\",dof)"
   ]
  },
  {
   "cell_type": "markdown",
   "id": "d36f2929-93b5-4134-ad87-012dc0630db2",
   "metadata": {},
   "source": [
    "### ✅ Hypothesis Test Result: Chi-Square Test for Independence\n",
    "\n",
    "- **Tested Variables**: Gender vs City  \n",
    "- **Chi-Square Statistic**: 3.93  \n",
    "- **Degrees of Freedom**: 9  \n",
    "- **P-Value**: 0.9158  \n",
    "\n",
    "🎯 **Interpretation**:  \n",
    "Since the p-value (0.9158) is **greater** than the significance level of 0.05, we **fail to reject** the null hypothesis.\n",
    "\n",
    "**Conclusion**: There is **no significant association** between Gender and City. They appear to be independent.\n"
   ]
  },
  {
   "cell_type": "code",
   "execution_count": null,
   "id": "1bc8740c-cb92-4fb7-bb19-c06cd8a04e08",
   "metadata": {},
   "outputs": [],
   "source": []
  },
  {
   "cell_type": "code",
   "execution_count": null,
   "id": "cef1fc87-5874-4582-9860-39eceb8cae98",
   "metadata": {},
   "outputs": [],
   "source": []
  }
 ],
 "metadata": {
  "kernelspec": {
   "display_name": "Python 3 (ipykernel)",
   "language": "python",
   "name": "python3"
  },
  "language_info": {
   "codemirror_mode": {
    "name": "ipython",
    "version": 3
   },
   "file_extension": ".py",
   "mimetype": "text/x-python",
   "name": "python",
   "nbconvert_exporter": "python",
   "pygments_lexer": "ipython3",
   "version": "3.13.0"
  }
 },
 "nbformat": 4,
 "nbformat_minor": 5
}
